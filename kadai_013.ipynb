{
  "nbformat": 4,
  "nbformat_minor": 0,
  "metadata": {
    "colab": {
      "provenance": [],
      "authorship_tag": "ABX9TyNk9yW6Vg1eXakksWzVyv/0",
      "include_colab_link": true
    },
    "kernelspec": {
      "name": "python3",
      "display_name": "Python 3"
    },
    "language_info": {
      "name": "python"
    }
  },
  "cells": [
    {
      "cell_type": "markdown",
      "metadata": {
        "id": "view-in-github",
        "colab_type": "text"
      },
      "source": [
        "<a href=\"https://colab.research.google.com/github/toro-kichi/python-basic-kadai/blob/main/kadai_013.ipynb\" target=\"_parent\"><img src=\"https://colab.research.google.com/assets/colab-badge.svg\" alt=\"Open In Colab\"/></a>"
      ]
    },
    {
      "cell_type": "code",
      "execution_count": 7,
      "metadata": {
        "colab": {
          "base_uri": "https://localhost:8080/"
        },
        "id": "h6r_RIJIHIKt",
        "outputId": "46cab327-0473-4af0-b991-2716ad9d8ba9"
      },
      "outputs": [
        {
          "output_type": "stream",
          "name": "stdout",
          "text": [
            "110.0円\n"
          ]
        }
      ],
      "source": [
        "def calcurate_tax(price, tax):\n",
        "  total_price=price + price*tax/100\n",
        "  print(f'{total_price}円')\n",
        "\n",
        "calcurate_tax(100, 10)\n"
      ]
    },
    {
      "cell_type": "code",
      "source": [],
      "metadata": {
        "id": "czuWjhesH3Kt"
      },
      "execution_count": null,
      "outputs": []
    }
  ]
}